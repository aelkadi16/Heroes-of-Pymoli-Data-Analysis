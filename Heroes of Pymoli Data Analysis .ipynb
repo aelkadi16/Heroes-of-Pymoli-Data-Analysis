{
 "cells": [
  {
   "cell_type": "markdown",
   "metadata": {},
   "source": [
    "### Heroes Of Pymoli Data Analysis\n",
    "* Of the 1163 active players, the vast majority are male (84%). There also exists, a smaller, but notable proportion of female players (14%).\n",
    "\n",
    "* Our peak age demographic falls between 20-24 (44.8%) with secondary groups falling between 15-19 (18.60%) and 25-29 (13.4%).  \n",
    "\n",
    "* The top 5 spenders came from the 20-24 age group. Chamjask73 is the only female in this group ranking as the 3rd highest spender. The age group 20-24 consisted of the highest purchase count of 356 and collectively represents the highest total purchase value $1,114.06-equating to 25% of the total purchase value out of all age groups. We can infer that Heroes of Pymoli's in-game purchases mainly appeal to males and the age demographic of 20-24 based on the population.\n",
    "-----"
   ]
  },
  {
   "cell_type": "code",
   "execution_count": 41,
   "metadata": {},
   "outputs": [
    {
     "name": "stdout",
     "output_type": "stream",
     "text": [
      "     Purchase ID               SN  Age                 Gender  Item ID  \\\n",
      "0              0          Lisim78   20                   Male      108   \n",
      "1              1      Lisovynya38   40                   Male      143   \n",
      "2              2       Ithergue48   24                   Male       92   \n",
      "3              3    Chamassasya86   24                   Male      100   \n",
      "4              4        Iskosia90   23                   Male      131   \n",
      "5              5          Yalae81   22                   Male       81   \n",
      "6              6        Itheria73   36                   Male      169   \n",
      "7              7      Iskjaskst81   20                   Male      162   \n",
      "8              8        Undjask33   22                   Male       21   \n",
      "9              9      Chanosian48   35  Other / Non-Disclosed      136   \n",
      "10            10        Inguron55   23                   Male       95   \n",
      "11            11     Haisrisuir60   23                   Male      162   \n",
      "12            12     Saelaephos52   21                   Male      116   \n",
      "13            13      Assjaskan73   22                   Male        4   \n",
      "14            14      Saesrideu94   35                   Male      165   \n",
      "15            15        Lisassa64   21                 Female       98   \n",
      "16            16        Lisirra25   20                   Male       40   \n",
      "17            17        Zontibe81   21                   Male      161   \n",
      "18            18        Reunasu60   22                 Female       82   \n",
      "19            19        Chamalo71   30                   Male       89   \n",
      "20            20     Iathenudil29   20                   Male       57   \n",
      "21            21    Phiarithdeu40   20                   Male      168   \n",
      "22            22     Siarithria38   38  Other / Non-Disclosed       24   \n",
      "23            23         Eyrian71   40                   Male      151   \n",
      "24            24          Siala43   30                   Male      141   \n",
      "25            25        Lisirra87   29                   Male      178   \n",
      "26            26       Lirtossa84   11                   Male       71   \n",
      "27            27          Eusri44    7                   Male       96   \n",
      "28            28           Aela59   21                   Male      119   \n",
      "29            29          Tyida79   24                   Male       37   \n",
      "..           ...              ...  ...                    ...      ...   \n",
      "750          750         Iljask75   22                   Male      167   \n",
      "751          751      Lisjaskan36   11                   Male      180   \n",
      "752          752    Mindjasksya61   17                   Male      112   \n",
      "753          753   Frichirranya75   36                   Male      178   \n",
      "754          754  Pheosurllorin41   23                 Female       79   \n",
      "755          755         Raesty92   12                   Male       76   \n",
      "756          756          Ilast79   20                   Male       73   \n",
      "757          757        Eratiel90   18                   Male       57   \n",
      "758          758           Iral74   21                   Male      182   \n",
      "759          759      Tyaelorap29   25                   Male       72   \n",
      "760          760       Aithelis62   21                   Male       44   \n",
      "761          761          Assim27   45                   Male       17   \n",
      "762          762           Asur53   26                   Male      110   \n",
      "763          763     Lassilsala30   21                   Male       85   \n",
      "764          764     Saedaiphos46   18                   Male      113   \n",
      "765          765          Irith83   18                   Male      130   \n",
      "766          766     Aelastirin39   23                   Male       58   \n",
      "767          767          Ilmol66    8                 Female       92   \n",
      "768          768     Assassasta79   38                   Male       92   \n",
      "769          769        Ilosian36   15                   Male      145   \n",
      "770          770       Lirtosia63   34                   Male       12   \n",
      "771          771     Iskossasda43   16                   Male       25   \n",
      "772          772           Asur53   26                   Male      136   \n",
      "773          773           Hala31   21                   Male       19   \n",
      "774          774       Jiskjask80   11                   Male      101   \n",
      "775          775       Aethedru70   21                 Female       60   \n",
      "776          776           Iral74   21                   Male      164   \n",
      "777          777       Yathecal72   20                   Male       67   \n",
      "778          778          Sisur91    7                   Male      101   \n",
      "779          779        Ennrian78   24                   Male       50   \n",
      "\n",
      "                                        Item Name  Price  \n",
      "0       Extraction, Quickblade Of Trembling Hands   3.53  \n",
      "1                               Frenzied Scimitar   1.56  \n",
      "2                                    Final Critic   4.88  \n",
      "3                                     Blindscythe   3.27  \n",
      "4                                            Fury   1.44  \n",
      "5                                       Dreamkiss   3.61  \n",
      "6          Interrogator, Blood Blade of the Queen   2.18  \n",
      "7                                   Abyssal Shard   2.67  \n",
      "8                                       Souleater   1.10  \n",
      "9                    Ghastly Adamantite Protector   3.58  \n",
      "10                          Singed Onyx Warscythe   4.74  \n",
      "11                                  Abyssal Shard   2.67  \n",
      "12                        Renewed Skeletal Katana   4.18  \n",
      "13                             Bloodlord's Fetish   1.70  \n",
      "14                    Bone Crushing Silver Skewer   4.86  \n",
      "15                    Deadline, Voice Of Subtlety   2.89  \n",
      "16                                  Second Chance   2.52  \n",
      "17                                         Devine   1.76  \n",
      "18                                        Nirvana   4.90  \n",
      "19              Blazefury, Protector of Delusions   4.64  \n",
      "20                Despair, Favor of Due Diligence   4.60  \n",
      "21            Sun Strike, Jaws of Twisted Visions   1.48  \n",
      "22                                  Warped Fetish   3.81  \n",
      "23                                      Severance   3.40  \n",
      "24                                     Persuasion   3.19  \n",
      "25   Oathbreaker, Last Hope of the Breaking Storm   4.23  \n",
      "26                                         Demise   1.61  \n",
      "27                    Blood-Forged Skeletal Spine   3.09  \n",
      "28      Stormbringer, Dark Blade of Ending Misery   4.32  \n",
      "29            Shadow Strike, Glory of Ending Hope   3.16  \n",
      "..                                            ...    ...  \n",
      "750                   Malice, Legacy of the Queen   3.61  \n",
      "751                                   Stormcaller   3.36  \n",
      "752                                  Worldbreaker   2.60  \n",
      "753  Oathbreaker, Last Hope of the Breaking Storm   4.23  \n",
      "754                           Alpha, Oath of Zeal   4.05  \n",
      "755                      Haunted Bronzed Bludgeon   3.15  \n",
      "756                                   Ritual Mace   2.05  \n",
      "757               Despair, Favor of Due Diligence   4.60  \n",
      "758                                     Toothpick   4.03  \n",
      "759                                 Winter's Bite   3.77  \n",
      "760                         Bonecarvin Battle Axe   2.38  \n",
      "761                  Lazarus, Terror of the Earth   1.70  \n",
      "762                                    Suspension   1.44  \n",
      "763                                Malificent Bag   1.75  \n",
      "764                             Solitude's Reaver   4.07  \n",
      "765                                         Alpha   2.07  \n",
      "766             Freak's Bite, Favor of Holy Might   4.14  \n",
      "767                                  Final Critic   4.88  \n",
      "768                                  Final Critic   4.88  \n",
      "769                          Fiery Glass Crusader   4.58  \n",
      "770                                         Dawne   1.02  \n",
      "771                                     Hero Cane   4.35  \n",
      "772                  Ghastly Adamantite Protector   3.58  \n",
      "773                 Pursuit, Cudgel of Necromancy   1.02  \n",
      "774                                  Final Critic   4.19  \n",
      "775                                          Wolf   3.54  \n",
      "776                              Exiled Doomblade   1.63  \n",
      "777         Celeste, Incarnation of the Corrupted   3.46  \n",
      "778                                  Final Critic   4.19  \n",
      "779                                          Dawn   4.60  \n",
      "\n",
      "[780 rows x 7 columns]\n"
     ]
    }
   ],
   "source": [
    "# Dependencies and Setup\n",
    "import pandas as pd\n",
    "import numpy as np\n",
    "\n",
    "# File to Load (Remember to Change These)\n",
    "pymoli_data = \"Resources/purchase_data.csv\"\n",
    "\n",
    "# Read Purchasing File and store into Pandas data frame\n",
    "purchase_data = pd.read_csv(pymoli_data)\n",
    "print(purchase_data)"
   ]
  },
  {
   "cell_type": "code",
   "execution_count": 31,
   "metadata": {},
   "outputs": [
    {
     "data": {
      "text/html": [
       "<div>\n",
       "<style scoped>\n",
       "    .dataframe tbody tr th:only-of-type {\n",
       "        vertical-align: middle;\n",
       "    }\n",
       "\n",
       "    .dataframe tbody tr th {\n",
       "        vertical-align: top;\n",
       "    }\n",
       "\n",
       "    .dataframe thead th {\n",
       "        text-align: right;\n",
       "    }\n",
       "</style>\n",
       "<table border=\"1\" class=\"dataframe\">\n",
       "  <thead>\n",
       "    <tr style=\"text-align: right;\">\n",
       "      <th></th>\n",
       "      <th>Total Players</th>\n",
       "    </tr>\n",
       "  </thead>\n",
       "  <tbody>\n",
       "    <tr>\n",
       "      <th>0</th>\n",
       "      <td>576</td>\n",
       "    </tr>\n",
       "  </tbody>\n",
       "</table>\n",
       "</div>"
      ],
      "text/plain": [
       "   Total Players\n",
       "0            576"
      ]
     },
     "execution_count": 31,
     "metadata": {},
     "output_type": "execute_result"
    }
   ],
   "source": [
    "# Player Count Using Length of Screen Name data\n",
    "total_players = len(purchase_data[\"SN\"].value_counts())\n",
    "#dataframe for total players named\n",
    "player_count = pd.DataFrame({\"Total Players\":[total_players]})\n",
    "player_count"
   ]
  },
  {
   "cell_type": "markdown",
   "metadata": {},
   "source": [
    "## Player Count"
   ]
  },
  {
   "cell_type": "code",
   "execution_count": 32,
   "metadata": {},
   "outputs": [
    {
     "name": "stdout",
     "output_type": "stream",
     "text": [
      "576\n"
     ]
    }
   ],
   "source": [
    "print(total_players)"
   ]
  },
  {
   "cell_type": "markdown",
   "metadata": {},
   "source": [
    "## Purchasing Analysis (Total)"
   ]
  },
  {
   "cell_type": "markdown",
   "metadata": {},
   "source": [
    "* Run basic calculations to obtain number of unique items, average price, etc.\n",
    "\n",
    "\n",
    "* Create a summary data frame to hold the results\n",
    "\n",
    "\n",
    "* Optional: give the displayed data cleaner formatting\n",
    "\n",
    "\n",
    "* Display the summary data frame\n"
   ]
  },
  {
   "cell_type": "code",
   "execution_count": 33,
   "metadata": {
    "scrolled": true
   },
   "outputs": [
    {
     "data": {
      "text/html": [
       "<style  type=\"text/css\" >\n",
       "</style>  \n",
       "<table id=\"T_a6139fa6_406b_11e9_a4ce_02002c1acb01\" > \n",
       "<thead>    <tr> \n",
       "        <th class=\"blank level0\" ></th> \n",
       "        <th class=\"col_heading level0 col0\" >Number of Unique Items</th> \n",
       "        <th class=\"col_heading level0 col1\" >Average Price</th> \n",
       "        <th class=\"col_heading level0 col2\" >Number of Purchases</th> \n",
       "        <th class=\"col_heading level0 col3\" >Total Revenue</th> \n",
       "    </tr></thead> \n",
       "<tbody>    <tr> \n",
       "        <th id=\"T_a6139fa6_406b_11e9_a4ce_02002c1acb01level0_row0\" class=\"row_heading level0 row0\" >0</th> \n",
       "        <td id=\"T_a6139fa6_406b_11e9_a4ce_02002c1acb01row0_col0\" class=\"data row0 col0\" >183</td> \n",
       "        <td id=\"T_a6139fa6_406b_11e9_a4ce_02002c1acb01row0_col1\" class=\"data row0 col1\" >$3.05</td> \n",
       "        <td id=\"T_a6139fa6_406b_11e9_a4ce_02002c1acb01row0_col2\" class=\"data row0 col2\" >780</td> \n",
       "        <td id=\"T_a6139fa6_406b_11e9_a4ce_02002c1acb01row0_col3\" class=\"data row0 col3\" >$2,379.77</td> \n",
       "    </tr></tbody> \n",
       "</table> "
      ],
      "text/plain": [
       "<pandas.io.formats.style.Styler at 0x120617198>"
      ]
     },
     "execution_count": 33,
     "metadata": {},
     "output_type": "execute_result"
    }
   ],
   "source": [
    "#Calculations for unique items, average price, purchase count, and revenue\n",
    "number_of_unique_items = len((purchase_data[\"Item ID\"]).unique())\n",
    "average_price = (purchase_data[\"Price\"]).mean()\n",
    "number_of_purchases = (purchase_data[\"Purchase ID\"]).count()\n",
    "total_revenue = (purchase_data[\"Price\"]).sum()\n",
    "\n",
    "#DataFrame with obtained values\n",
    "summary_df = pd.DataFrame({\"Number of Unique Items\": [number_of_unique_items],\n",
    "                           \"Average Price\": [average_price],\n",
    "                           \"Number of Purchases\": [number_of_purchases],\n",
    "                           \"Total Revenue\": [total_revenue]})\n",
    "#Formatting\n",
    "summary_df.style.format({'Average Price':\"${:,.2f}\",\n",
    "                         'Total Revenue': '${:,.2f}'})"
   ]
  },
  {
   "cell_type": "markdown",
   "metadata": {},
   "source": [
    "## Gender Demographics"
   ]
  },
  {
   "cell_type": "markdown",
   "metadata": {},
   "source": [
    "* Percentage and Count of Male Players\n",
    "\n",
    "\n",
    "* Percentage and Count of Female Players\n",
    "\n",
    "\n",
    "* Percentage and Count of Other / Non-Disclosed\n",
    "\n",
    "\n"
   ]
  },
  {
   "cell_type": "code",
   "execution_count": 34,
   "metadata": {},
   "outputs": [
    {
     "data": {
      "text/html": [
       "<style  type=\"text/css\" >\n",
       "</style>  \n",
       "<table id=\"T_a665c45c_406b_11e9_a4ce_02002c1acb01\" > \n",
       "<thead>    <tr> \n",
       "        <th class=\"blank level0\" ></th> \n",
       "        <th class=\"col_heading level0 col0\" >Percentage of Players</th> \n",
       "        <th class=\"col_heading level0 col1\" >Total Count</th> \n",
       "    </tr></thead> \n",
       "<tbody>    <tr> \n",
       "        <th id=\"T_a665c45c_406b_11e9_a4ce_02002c1acb01level0_row0\" class=\"row_heading level0 row0\" >Male</th> \n",
       "        <td id=\"T_a665c45c_406b_11e9_a4ce_02002c1acb01row0_col0\" class=\"data row0 col0\" >84.03</td> \n",
       "        <td id=\"T_a665c45c_406b_11e9_a4ce_02002c1acb01row0_col1\" class=\"data row0 col1\" >484</td> \n",
       "    </tr>    <tr> \n",
       "        <th id=\"T_a665c45c_406b_11e9_a4ce_02002c1acb01level0_row1\" class=\"row_heading level0 row1\" >Female</th> \n",
       "        <td id=\"T_a665c45c_406b_11e9_a4ce_02002c1acb01row1_col0\" class=\"data row1 col0\" >14.06</td> \n",
       "        <td id=\"T_a665c45c_406b_11e9_a4ce_02002c1acb01row1_col1\" class=\"data row1 col1\" >81</td> \n",
       "    </tr>    <tr> \n",
       "        <th id=\"T_a665c45c_406b_11e9_a4ce_02002c1acb01level0_row2\" class=\"row_heading level0 row2\" >Other / Non-Disclosed</th> \n",
       "        <td id=\"T_a665c45c_406b_11e9_a4ce_02002c1acb01row2_col0\" class=\"data row2 col0\" >1.91</td> \n",
       "        <td id=\"T_a665c45c_406b_11e9_a4ce_02002c1acb01row2_col1\" class=\"data row2 col1\" >11</td> \n",
       "    </tr></tbody> \n",
       "</table> "
      ],
      "text/plain": [
       "<pandas.io.formats.style.Styler at 0x11f983dd8>"
      ]
     },
     "execution_count": 34,
     "metadata": {},
     "output_type": "execute_result"
    }
   ],
   "source": [
    "# Group purchase_data by Gender\n",
    "gender_stats = purchase_data.groupby(\"Gender\")\n",
    "\n",
    "# Count the total of screen names \"SN\" by gender\n",
    "total_count_gender = gender_stats.nunique()[\"SN\"]\n",
    "\n",
    "# Total count by gender and divivde by total players \n",
    "percentage_of_players = total_count_gender / total_players * 100\n",
    "\n",
    "# Create data frame with obtained values\n",
    "gender_demographics = pd.DataFrame({\"Percentage of Players\": percentage_of_players, \"Total Count\": total_count_gender})\n",
    "\n",
    "# Format the data frame with no index name in the corner\n",
    "gender_demographics.index.name = None\n",
    "\n",
    "# Format the values sorted by total count in descending order, and two decimal places for the percentage\n",
    "gender_demographics.sort_values([\"Total Count\"], ascending = False).style.format({\"Percentage of Players\":\"{:.2f}\"})\n"
   ]
  },
  {
   "cell_type": "markdown",
   "metadata": {},
   "source": [
    "\n",
    "## Purchasing Analysis (Gender)"
   ]
  },
  {
   "cell_type": "markdown",
   "metadata": {},
   "source": [
    "* Run basic calculations to obtain purchase count, avg. purchase price, avg. purchase total per person etc. by gender\n",
    "\n",
    "\n",
    "\n",
    "\n",
    "* Create a summary data frame to hold the results\n",
    "\n",
    "\n",
    "* Optional: give the displayed data cleaner formatting\n",
    "\n",
    "\n",
    "* Display the summary data frame"
   ]
  },
  {
   "cell_type": "code",
   "execution_count": 35,
   "metadata": {},
   "outputs": [
    {
     "data": {
      "text/html": [
       "<style  type=\"text/css\" >\n",
       "</style>  \n",
       "<table id=\"T_a6c8ddbc_406b_11e9_a4ce_02002c1acb01\" > \n",
       "<thead>    <tr> \n",
       "        <th class=\"blank level0\" ></th> \n",
       "        <th class=\"col_heading level0 col0\" >Purchase Count</th> \n",
       "        <th class=\"col_heading level0 col1\" >Average Purchase Price</th> \n",
       "        <th class=\"col_heading level0 col2\" >Average Purchase Value</th> \n",
       "        <th class=\"col_heading level0 col3\" >Avg Purchase Total per Person</th> \n",
       "    </tr>    <tr> \n",
       "        <th class=\"index_name level0\" >Gender</th> \n",
       "        <th class=\"blank\" ></th> \n",
       "        <th class=\"blank\" ></th> \n",
       "        <th class=\"blank\" ></th> \n",
       "        <th class=\"blank\" ></th> \n",
       "    </tr></thead> \n",
       "<tbody>    <tr> \n",
       "        <th id=\"T_a6c8ddbc_406b_11e9_a4ce_02002c1acb01level0_row0\" class=\"row_heading level0 row0\" >Female</th> \n",
       "        <td id=\"T_a6c8ddbc_406b_11e9_a4ce_02002c1acb01row0_col0\" class=\"data row0 col0\" >113</td> \n",
       "        <td id=\"T_a6c8ddbc_406b_11e9_a4ce_02002c1acb01row0_col1\" class=\"data row0 col1\" >$3.20</td> \n",
       "        <td id=\"T_a6c8ddbc_406b_11e9_a4ce_02002c1acb01row0_col2\" class=\"data row0 col2\" >$361.94</td> \n",
       "        <td id=\"T_a6c8ddbc_406b_11e9_a4ce_02002c1acb01row0_col3\" class=\"data row0 col3\" >$4.47</td> \n",
       "    </tr>    <tr> \n",
       "        <th id=\"T_a6c8ddbc_406b_11e9_a4ce_02002c1acb01level0_row1\" class=\"row_heading level0 row1\" >Male</th> \n",
       "        <td id=\"T_a6c8ddbc_406b_11e9_a4ce_02002c1acb01row1_col0\" class=\"data row1 col0\" >652</td> \n",
       "        <td id=\"T_a6c8ddbc_406b_11e9_a4ce_02002c1acb01row1_col1\" class=\"data row1 col1\" >$3.02</td> \n",
       "        <td id=\"T_a6c8ddbc_406b_11e9_a4ce_02002c1acb01row1_col2\" class=\"data row1 col2\" >$1,967.64</td> \n",
       "        <td id=\"T_a6c8ddbc_406b_11e9_a4ce_02002c1acb01row1_col3\" class=\"data row1 col3\" >$4.07</td> \n",
       "    </tr>    <tr> \n",
       "        <th id=\"T_a6c8ddbc_406b_11e9_a4ce_02002c1acb01level0_row2\" class=\"row_heading level0 row2\" >Other / Non-Disclosed</th> \n",
       "        <td id=\"T_a6c8ddbc_406b_11e9_a4ce_02002c1acb01row2_col0\" class=\"data row2 col0\" >15</td> \n",
       "        <td id=\"T_a6c8ddbc_406b_11e9_a4ce_02002c1acb01row2_col1\" class=\"data row2 col1\" >$3.35</td> \n",
       "        <td id=\"T_a6c8ddbc_406b_11e9_a4ce_02002c1acb01row2_col2\" class=\"data row2 col2\" >$50.19</td> \n",
       "        <td id=\"T_a6c8ddbc_406b_11e9_a4ce_02002c1acb01row2_col3\" class=\"data row2 col3\" >$4.56</td> \n",
       "    </tr></tbody> \n",
       "</table> "
      ],
      "text/plain": [
       "<pandas.io.formats.style.Styler at 0x12055b5f8>"
      ]
     },
     "execution_count": 35,
     "metadata": {},
     "output_type": "execute_result"
    }
   ],
   "source": [
    "# Count the total purchases by gender \n",
    "purchase_count = gender_stats[\"Purchase ID\"].count()\n",
    "\n",
    "# Average purchase prices by gender\n",
    "avg_purchase_price = gender_stats[\"Price\"].mean()\n",
    "\n",
    "# Average purchase total by gender \n",
    "avg_purchase_total = gender_stats[\"Price\"].sum()\n",
    "\n",
    "# Average purchase total by gender divivded by purchase count by unique shoppers\n",
    "avg_purchase_per_person = avg_purchase_total/total_count_gender\n",
    "\n",
    "# Create data frame with obtained values \n",
    "gender_demographics = pd.DataFrame({\"Purchase Count\": purchase_count, \n",
    "                                    \"Average Purchase Price\": avg_purchase_price,\n",
    "                                    \"Average Purchase Value\":avg_purchase_total,\n",
    "                                    \"Avg Purchase Total per Person\": avg_purchase_per_person})\n",
    "\n",
    "# Showcasing Index as Gender \n",
    "gender_demographics.index.name = \"Gender\"\n",
    "\n",
    "# Format with currency style\n",
    "gender_demographics.style.format({\"Average Purchase Value\":\"${:,.2f}\",\n",
    "                                  \"Average Purchase Price\":\"${:,.2f}\",\n",
    "                                  \"Avg Purchase Total per Person\":\"${:,.2f}\"})"
   ]
  },
  {
   "cell_type": "markdown",
   "metadata": {},
   "source": [
    "## Age Demographics"
   ]
  },
  {
   "cell_type": "markdown",
   "metadata": {},
   "source": [
    "* Establish bins for ages\n",
    "\n",
    "\n",
    "* Categorize the existing players using the age bins. Hint: use pd.cut()\n",
    "\n",
    "\n",
    "* Calculate the numbers and percentages by age group\n",
    "\n",
    "\n",
    "* Create a summary data frame to hold the results\n",
    "\n",
    "\n",
    "* Optional: round the percentage column to two decimal points\n",
    "\n",
    "\n",
    "* Display Age Demographics Table\n"
   ]
  },
  {
   "cell_type": "code",
   "execution_count": 36,
   "metadata": {},
   "outputs": [
    {
     "data": {
      "text/html": [
       "<style  type=\"text/css\" >\n",
       "</style>  \n",
       "<table id=\"T_a724ca78_406b_11e9_a4ce_02002c1acb01\" > \n",
       "<thead>    <tr> \n",
       "        <th class=\"blank level0\" ></th> \n",
       "        <th class=\"col_heading level0 col0\" >Percentage of Players</th> \n",
       "        <th class=\"col_heading level0 col1\" >Total Count</th> \n",
       "    </tr></thead> \n",
       "<tbody>    <tr> \n",
       "        <th id=\"T_a724ca78_406b_11e9_a4ce_02002c1acb01level0_row0\" class=\"row_heading level0 row0\" ><10</th> \n",
       "        <td id=\"T_a724ca78_406b_11e9_a4ce_02002c1acb01row0_col0\" class=\"data row0 col0\" >2.95</td> \n",
       "        <td id=\"T_a724ca78_406b_11e9_a4ce_02002c1acb01row0_col1\" class=\"data row0 col1\" >17</td> \n",
       "    </tr>    <tr> \n",
       "        <th id=\"T_a724ca78_406b_11e9_a4ce_02002c1acb01level0_row1\" class=\"row_heading level0 row1\" >10-14</th> \n",
       "        <td id=\"T_a724ca78_406b_11e9_a4ce_02002c1acb01row1_col0\" class=\"data row1 col0\" >3.82</td> \n",
       "        <td id=\"T_a724ca78_406b_11e9_a4ce_02002c1acb01row1_col1\" class=\"data row1 col1\" >22</td> \n",
       "    </tr>    <tr> \n",
       "        <th id=\"T_a724ca78_406b_11e9_a4ce_02002c1acb01level0_row2\" class=\"row_heading level0 row2\" >15-19</th> \n",
       "        <td id=\"T_a724ca78_406b_11e9_a4ce_02002c1acb01row2_col0\" class=\"data row2 col0\" >18.58</td> \n",
       "        <td id=\"T_a724ca78_406b_11e9_a4ce_02002c1acb01row2_col1\" class=\"data row2 col1\" >107</td> \n",
       "    </tr>    <tr> \n",
       "        <th id=\"T_a724ca78_406b_11e9_a4ce_02002c1acb01level0_row3\" class=\"row_heading level0 row3\" >20-24</th> \n",
       "        <td id=\"T_a724ca78_406b_11e9_a4ce_02002c1acb01row3_col0\" class=\"data row3 col0\" >44.79</td> \n",
       "        <td id=\"T_a724ca78_406b_11e9_a4ce_02002c1acb01row3_col1\" class=\"data row3 col1\" >258</td> \n",
       "    </tr>    <tr> \n",
       "        <th id=\"T_a724ca78_406b_11e9_a4ce_02002c1acb01level0_row4\" class=\"row_heading level0 row4\" >25-29</th> \n",
       "        <td id=\"T_a724ca78_406b_11e9_a4ce_02002c1acb01row4_col0\" class=\"data row4 col0\" >13.37</td> \n",
       "        <td id=\"T_a724ca78_406b_11e9_a4ce_02002c1acb01row4_col1\" class=\"data row4 col1\" >77</td> \n",
       "    </tr>    <tr> \n",
       "        <th id=\"T_a724ca78_406b_11e9_a4ce_02002c1acb01level0_row5\" class=\"row_heading level0 row5\" >30-34</th> \n",
       "        <td id=\"T_a724ca78_406b_11e9_a4ce_02002c1acb01row5_col0\" class=\"data row5 col0\" >9.03</td> \n",
       "        <td id=\"T_a724ca78_406b_11e9_a4ce_02002c1acb01row5_col1\" class=\"data row5 col1\" >52</td> \n",
       "    </tr>    <tr> \n",
       "        <th id=\"T_a724ca78_406b_11e9_a4ce_02002c1acb01level0_row6\" class=\"row_heading level0 row6\" >35-39</th> \n",
       "        <td id=\"T_a724ca78_406b_11e9_a4ce_02002c1acb01row6_col0\" class=\"data row6 col0\" >5.38</td> \n",
       "        <td id=\"T_a724ca78_406b_11e9_a4ce_02002c1acb01row6_col1\" class=\"data row6 col1\" >31</td> \n",
       "    </tr>    <tr> \n",
       "        <th id=\"T_a724ca78_406b_11e9_a4ce_02002c1acb01level0_row7\" class=\"row_heading level0 row7\" >40+</th> \n",
       "        <td id=\"T_a724ca78_406b_11e9_a4ce_02002c1acb01row7_col0\" class=\"data row7 col0\" >2.08</td> \n",
       "        <td id=\"T_a724ca78_406b_11e9_a4ce_02002c1acb01row7_col1\" class=\"data row7 col1\" >12</td> \n",
       "    </tr></tbody> \n",
       "</table> "
      ],
      "text/plain": [
       "<pandas.io.formats.style.Styler at 0x12062a470>"
      ]
     },
     "execution_count": 36,
     "metadata": {},
     "output_type": "execute_result"
    }
   ],
   "source": [
    "# Establish bins for ages\n",
    "age_bins = [0, 9.90, 14.90, 19.90, 24.90, 29.90, 34.90, 39.90, 99999]\n",
    "group_names = [\"<10\", \"10-14\", \"15-19\", \"20-24\", \"25-29\", \"30-34\", \"35-39\", \"40+\"]\n",
    "\n",
    "# Segment and sort age values into bins established above\n",
    "purchase_data[\"Age Group\"] = pd.cut(purchase_data[\"Age\"],age_bins, labels=group_names)\n",
    "purchase_data\n",
    "\n",
    "# Create new data frame with the added \"Age Group\" and group it\n",
    "age_grouped = purchase_data.groupby(\"Age Group\")\n",
    "\n",
    "# Count total players by age category\n",
    "total_count_age = age_grouped[\"SN\"].nunique()\n",
    "\n",
    "# Calculate percentages by age category \n",
    "percentage_by_age = (total_count_age/total_players) * 100\n",
    "\n",
    "# Create data frame with obtained values\n",
    "age_demographics = pd.DataFrame({\"Percentage of Players\": percentage_by_age, \"Total Count\": total_count_age})\n",
    "\n",
    "# Format the data frame with no index name in the corner\n",
    "age_demographics.index.name = None\n",
    "\n",
    "# Format percentage with two decimal places \n",
    "age_demographics.style.format({\"Percentage of Players\":\"{:,.2f}\"})"
   ]
  },
  {
   "cell_type": "markdown",
   "metadata": {},
   "source": [
    "## Purchasing Analysis (Age)"
   ]
  },
  {
   "cell_type": "markdown",
   "metadata": {},
   "source": [
    "* Bin the purchase_data data frame by age\n",
    "\n",
    "\n",
    "* Run basic calculations to obtain purchase count, avg. purchase price, avg. purchase total per person etc. in the table below\n",
    "\n",
    "\n",
    "* Create a summary data frame to hold the results\n",
    "\n",
    "\n",
    "* Optional: give the displayed data cleaner formatting\n",
    "\n",
    "\n",
    "* Display the summary data frame"
   ]
  },
  {
   "cell_type": "code",
   "execution_count": 37,
   "metadata": {},
   "outputs": [
    {
     "data": {
      "text/html": [
       "<style  type=\"text/css\" >\n",
       "</style>  \n",
       "<table id=\"T_a7777f3e_406b_11e9_a4ce_02002c1acb01\" > \n",
       "<thead>    <tr> \n",
       "        <th class=\"blank level0\" ></th> \n",
       "        <th class=\"col_heading level0 col0\" >Purchase Count</th> \n",
       "        <th class=\"col_heading level0 col1\" >Average Purchase Price</th> \n",
       "        <th class=\"col_heading level0 col2\" >Total Purchase Value</th> \n",
       "        <th class=\"col_heading level0 col3\" >Average Purchase Total per Person</th> \n",
       "    </tr></thead> \n",
       "<tbody>    <tr> \n",
       "        <th id=\"T_a7777f3e_406b_11e9_a4ce_02002c1acb01level0_row0\" class=\"row_heading level0 row0\" ><10</th> \n",
       "        <td id=\"T_a7777f3e_406b_11e9_a4ce_02002c1acb01row0_col0\" class=\"data row0 col0\" >23</td> \n",
       "        <td id=\"T_a7777f3e_406b_11e9_a4ce_02002c1acb01row0_col1\" class=\"data row0 col1\" >$3.35</td> \n",
       "        <td id=\"T_a7777f3e_406b_11e9_a4ce_02002c1acb01row0_col2\" class=\"data row0 col2\" >$77.13</td> \n",
       "        <td id=\"T_a7777f3e_406b_11e9_a4ce_02002c1acb01row0_col3\" class=\"data row0 col3\" >$4.54</td> \n",
       "    </tr>    <tr> \n",
       "        <th id=\"T_a7777f3e_406b_11e9_a4ce_02002c1acb01level0_row1\" class=\"row_heading level0 row1\" >10-14</th> \n",
       "        <td id=\"T_a7777f3e_406b_11e9_a4ce_02002c1acb01row1_col0\" class=\"data row1 col0\" >28</td> \n",
       "        <td id=\"T_a7777f3e_406b_11e9_a4ce_02002c1acb01row1_col1\" class=\"data row1 col1\" >$2.96</td> \n",
       "        <td id=\"T_a7777f3e_406b_11e9_a4ce_02002c1acb01row1_col2\" class=\"data row1 col2\" >$82.78</td> \n",
       "        <td id=\"T_a7777f3e_406b_11e9_a4ce_02002c1acb01row1_col3\" class=\"data row1 col3\" >$3.76</td> \n",
       "    </tr>    <tr> \n",
       "        <th id=\"T_a7777f3e_406b_11e9_a4ce_02002c1acb01level0_row2\" class=\"row_heading level0 row2\" >15-19</th> \n",
       "        <td id=\"T_a7777f3e_406b_11e9_a4ce_02002c1acb01row2_col0\" class=\"data row2 col0\" >136</td> \n",
       "        <td id=\"T_a7777f3e_406b_11e9_a4ce_02002c1acb01row2_col1\" class=\"data row2 col1\" >$3.04</td> \n",
       "        <td id=\"T_a7777f3e_406b_11e9_a4ce_02002c1acb01row2_col2\" class=\"data row2 col2\" >$412.89</td> \n",
       "        <td id=\"T_a7777f3e_406b_11e9_a4ce_02002c1acb01row2_col3\" class=\"data row2 col3\" >$3.86</td> \n",
       "    </tr>    <tr> \n",
       "        <th id=\"T_a7777f3e_406b_11e9_a4ce_02002c1acb01level0_row3\" class=\"row_heading level0 row3\" >20-24</th> \n",
       "        <td id=\"T_a7777f3e_406b_11e9_a4ce_02002c1acb01row3_col0\" class=\"data row3 col0\" >365</td> \n",
       "        <td id=\"T_a7777f3e_406b_11e9_a4ce_02002c1acb01row3_col1\" class=\"data row3 col1\" >$3.05</td> \n",
       "        <td id=\"T_a7777f3e_406b_11e9_a4ce_02002c1acb01row3_col2\" class=\"data row3 col2\" >$1,114.06</td> \n",
       "        <td id=\"T_a7777f3e_406b_11e9_a4ce_02002c1acb01row3_col3\" class=\"data row3 col3\" >$4.32</td> \n",
       "    </tr>    <tr> \n",
       "        <th id=\"T_a7777f3e_406b_11e9_a4ce_02002c1acb01level0_row4\" class=\"row_heading level0 row4\" >25-29</th> \n",
       "        <td id=\"T_a7777f3e_406b_11e9_a4ce_02002c1acb01row4_col0\" class=\"data row4 col0\" >101</td> \n",
       "        <td id=\"T_a7777f3e_406b_11e9_a4ce_02002c1acb01row4_col1\" class=\"data row4 col1\" >$2.90</td> \n",
       "        <td id=\"T_a7777f3e_406b_11e9_a4ce_02002c1acb01row4_col2\" class=\"data row4 col2\" >$293.00</td> \n",
       "        <td id=\"T_a7777f3e_406b_11e9_a4ce_02002c1acb01row4_col3\" class=\"data row4 col3\" >$3.81</td> \n",
       "    </tr>    <tr> \n",
       "        <th id=\"T_a7777f3e_406b_11e9_a4ce_02002c1acb01level0_row5\" class=\"row_heading level0 row5\" >30-34</th> \n",
       "        <td id=\"T_a7777f3e_406b_11e9_a4ce_02002c1acb01row5_col0\" class=\"data row5 col0\" >73</td> \n",
       "        <td id=\"T_a7777f3e_406b_11e9_a4ce_02002c1acb01row5_col1\" class=\"data row5 col1\" >$2.93</td> \n",
       "        <td id=\"T_a7777f3e_406b_11e9_a4ce_02002c1acb01row5_col2\" class=\"data row5 col2\" >$214.00</td> \n",
       "        <td id=\"T_a7777f3e_406b_11e9_a4ce_02002c1acb01row5_col3\" class=\"data row5 col3\" >$4.12</td> \n",
       "    </tr>    <tr> \n",
       "        <th id=\"T_a7777f3e_406b_11e9_a4ce_02002c1acb01level0_row6\" class=\"row_heading level0 row6\" >35-39</th> \n",
       "        <td id=\"T_a7777f3e_406b_11e9_a4ce_02002c1acb01row6_col0\" class=\"data row6 col0\" >41</td> \n",
       "        <td id=\"T_a7777f3e_406b_11e9_a4ce_02002c1acb01row6_col1\" class=\"data row6 col1\" >$3.60</td> \n",
       "        <td id=\"T_a7777f3e_406b_11e9_a4ce_02002c1acb01row6_col2\" class=\"data row6 col2\" >$147.67</td> \n",
       "        <td id=\"T_a7777f3e_406b_11e9_a4ce_02002c1acb01row6_col3\" class=\"data row6 col3\" >$4.76</td> \n",
       "    </tr>    <tr> \n",
       "        <th id=\"T_a7777f3e_406b_11e9_a4ce_02002c1acb01level0_row7\" class=\"row_heading level0 row7\" >40+</th> \n",
       "        <td id=\"T_a7777f3e_406b_11e9_a4ce_02002c1acb01row7_col0\" class=\"data row7 col0\" >13</td> \n",
       "        <td id=\"T_a7777f3e_406b_11e9_a4ce_02002c1acb01row7_col1\" class=\"data row7 col1\" >$2.94</td> \n",
       "        <td id=\"T_a7777f3e_406b_11e9_a4ce_02002c1acb01row7_col2\" class=\"data row7 col2\" >$38.24</td> \n",
       "        <td id=\"T_a7777f3e_406b_11e9_a4ce_02002c1acb01row7_col3\" class=\"data row7 col3\" >$3.19</td> \n",
       "    </tr></tbody> \n",
       "</table> "
      ],
      "text/plain": [
       "<pandas.io.formats.style.Styler at 0x120644a58>"
      ]
     },
     "execution_count": 37,
     "metadata": {},
     "output_type": "execute_result"
    }
   ],
   "source": [
    "# Count purchases by age group\n",
    "purchase_count_age = age_grouped[\"Purchase ID\"].count()\n",
    "\n",
    "# Obtain average purchase price by age group \n",
    "avg_purchase_price_age = age_grouped[\"Price\"].mean()\n",
    "\n",
    "# Calculate total purchase value by age group \n",
    "total_purchase_value = age_grouped[\"Price\"].sum()\n",
    "\n",
    "# Calculate the average purchase per person in the age group \n",
    "avg_purchase_per_person_age = total_purchase_value/total_count_age\n",
    "\n",
    "# Create data frame with obtained values\n",
    "age_demographics = pd.DataFrame({\"Purchase Count\": purchase_count_age,\n",
    "                                 \"Average Purchase Price\": avg_purchase_price_age,\n",
    "                                 \"Total Purchase Value\":total_purchase_value,\n",
    "                                 \"Average Purchase Total per Person\": avg_purchase_per_person_age})\n",
    "\n",
    "# Format the data frame with no index name in the corner\n",
    "age_demographics.index.name = None\n",
    "\n",
    "# Format with currency style\n",
    "age_demographics.style.format({\"Average Purchase Price\":\"${:,.2f}\",\n",
    "                               \"Total Purchase Value\":\"${:,.2f}\",\n",
    "                               \"Average Purchase Total per Person\":\"${:,.2f}\"})"
   ]
  },
  {
   "cell_type": "markdown",
   "metadata": {},
   "source": [
    "## Top Spenders"
   ]
  },
  {
   "cell_type": "markdown",
   "metadata": {},
   "source": [
    "* Run basic calculations to obtain the results in the table below\n",
    "\n",
    "\n",
    "* Create a summary data frame to hold the results\n",
    "\n",
    "\n",
    "* Sort the total purchase value column in descending order\n",
    "\n",
    "\n",
    "* Optional: give the displayed data cleaner formatting\n",
    "\n",
    "\n",
    "* Display a preview of the summary data frame\n",
    "\n"
   ]
  },
  {
   "cell_type": "code",
   "execution_count": 38,
   "metadata": {},
   "outputs": [
    {
     "data": {
      "text/html": [
       "<style  type=\"text/css\" >\n",
       "</style>  \n",
       "<table id=\"T_a7c60dde_406b_11e9_a4ce_02002c1acb01\" > \n",
       "<thead>    <tr> \n",
       "        <th class=\"blank level0\" ></th> \n",
       "        <th class=\"col_heading level0 col0\" >Purchase Count</th> \n",
       "        <th class=\"col_heading level0 col1\" >Average Purchase Price</th> \n",
       "        <th class=\"col_heading level0 col2\" >Total Purchase Value</th> \n",
       "    </tr>    <tr> \n",
       "        <th class=\"index_name level0\" >SN</th> \n",
       "        <th class=\"blank\" ></th> \n",
       "        <th class=\"blank\" ></th> \n",
       "        <th class=\"blank\" ></th> \n",
       "    </tr></thead> \n",
       "<tbody>    <tr> \n",
       "        <th id=\"T_a7c60dde_406b_11e9_a4ce_02002c1acb01level0_row0\" class=\"row_heading level0 row0\" >Lisosia93</th> \n",
       "        <td id=\"T_a7c60dde_406b_11e9_a4ce_02002c1acb01row0_col0\" class=\"data row0 col0\" >5</td> \n",
       "        <td id=\"T_a7c60dde_406b_11e9_a4ce_02002c1acb01row0_col1\" class=\"data row0 col1\" >$3.79</td> \n",
       "        <td id=\"T_a7c60dde_406b_11e9_a4ce_02002c1acb01row0_col2\" class=\"data row0 col2\" >$18.96</td> \n",
       "    </tr>    <tr> \n",
       "        <th id=\"T_a7c60dde_406b_11e9_a4ce_02002c1acb01level0_row1\" class=\"row_heading level0 row1\" >Idastidru52</th> \n",
       "        <td id=\"T_a7c60dde_406b_11e9_a4ce_02002c1acb01row1_col0\" class=\"data row1 col0\" >4</td> \n",
       "        <td id=\"T_a7c60dde_406b_11e9_a4ce_02002c1acb01row1_col1\" class=\"data row1 col1\" >$3.86</td> \n",
       "        <td id=\"T_a7c60dde_406b_11e9_a4ce_02002c1acb01row1_col2\" class=\"data row1 col2\" >$15.45</td> \n",
       "    </tr>    <tr> \n",
       "        <th id=\"T_a7c60dde_406b_11e9_a4ce_02002c1acb01level0_row2\" class=\"row_heading level0 row2\" >Chamjask73</th> \n",
       "        <td id=\"T_a7c60dde_406b_11e9_a4ce_02002c1acb01row2_col0\" class=\"data row2 col0\" >3</td> \n",
       "        <td id=\"T_a7c60dde_406b_11e9_a4ce_02002c1acb01row2_col1\" class=\"data row2 col1\" >$4.61</td> \n",
       "        <td id=\"T_a7c60dde_406b_11e9_a4ce_02002c1acb01row2_col2\" class=\"data row2 col2\" >$13.83</td> \n",
       "    </tr>    <tr> \n",
       "        <th id=\"T_a7c60dde_406b_11e9_a4ce_02002c1acb01level0_row3\" class=\"row_heading level0 row3\" >Iral74</th> \n",
       "        <td id=\"T_a7c60dde_406b_11e9_a4ce_02002c1acb01row3_col0\" class=\"data row3 col0\" >4</td> \n",
       "        <td id=\"T_a7c60dde_406b_11e9_a4ce_02002c1acb01row3_col1\" class=\"data row3 col1\" >$3.40</td> \n",
       "        <td id=\"T_a7c60dde_406b_11e9_a4ce_02002c1acb01row3_col2\" class=\"data row3 col2\" >$13.62</td> \n",
       "    </tr>    <tr> \n",
       "        <th id=\"T_a7c60dde_406b_11e9_a4ce_02002c1acb01level0_row4\" class=\"row_heading level0 row4\" >Iskadarya95</th> \n",
       "        <td id=\"T_a7c60dde_406b_11e9_a4ce_02002c1acb01row4_col0\" class=\"data row4 col0\" >3</td> \n",
       "        <td id=\"T_a7c60dde_406b_11e9_a4ce_02002c1acb01row4_col1\" class=\"data row4 col1\" >$4.37</td> \n",
       "        <td id=\"T_a7c60dde_406b_11e9_a4ce_02002c1acb01row4_col2\" class=\"data row4 col2\" >$13.10</td> \n",
       "    </tr></tbody> \n",
       "</table> "
      ],
      "text/plain": [
       "<pandas.io.formats.style.Styler at 0x1206577b8>"
      ]
     },
     "execution_count": 38,
     "metadata": {},
     "output_type": "execute_result"
    }
   ],
   "source": [
    "# Group purchase data by screen names\n",
    "spender_stats = purchase_data.groupby(\"SN\")\n",
    "\n",
    "# Count the total purchases by name\n",
    "purchase_count_spender = spender_stats[\"Purchase ID\"].count()\n",
    "\n",
    "# Calculate the average purchase by name \n",
    "avg_purchase_price_spender = spender_stats[\"Price\"].mean()\n",
    "\n",
    "# Calculate purchase total \n",
    "purchase_total_spender = spender_stats[\"Price\"].sum()\n",
    "\n",
    "# Create data frame with obtained values\n",
    "top_spenders = pd.DataFrame({\"Purchase Count\": purchase_count_spender,\n",
    "                             \"Average Purchase Price\": avg_purchase_price_spender,\n",
    "                             \"Total Purchase Value\":purchase_total_spender})\n",
    "\n",
    "# Sort in descending order to obtain top 5 spender names \n",
    "formatted_spenders = top_spenders.sort_values([\"Total Purchase Value\"], ascending=False).head()\n",
    "\n",
    "# Format with currency style\n",
    "formatted_spenders.style.format({\"Average Purchase Total\":\"${:,.2f}\",\n",
    "                                 \"Average Purchase Price\":\"${:,.2f}\", \n",
    "                                 \"Total Purchase Value\":\"${:,.2f}\"})"
   ]
  },
  {
   "cell_type": "markdown",
   "metadata": {},
   "source": [
    "## Most Popular Items"
   ]
  },
  {
   "cell_type": "markdown",
   "metadata": {},
   "source": [
    "* Retrieve the Item ID, Item Name, and Item Price columns\n",
    "\n",
    "\n",
    "* Group by Item ID and Item Name. Perform calculations to obtain purchase count, item price, and total purchase value\n",
    "\n",
    "\n",
    "* Create a summary data frame to hold the results\n",
    "\n",
    "\n",
    "* Sort the purchase count column in descending order\n",
    "\n",
    "\n",
    "* Optional: give the displayed data cleaner formatting\n",
    "\n",
    "\n",
    "* Display a preview of the summary data frame\n",
    "\n"
   ]
  },
  {
   "cell_type": "code",
   "execution_count": 39,
   "metadata": {},
   "outputs": [
    {
     "data": {
      "text/html": [
       "<style  type=\"text/css\" >\n",
       "</style>  \n",
       "<table id=\"T_a828d234_406b_11e9_a4ce_02002c1acb01\" > \n",
       "<thead>    <tr> \n",
       "        <th class=\"blank\" ></th> \n",
       "        <th class=\"blank level0\" ></th> \n",
       "        <th class=\"col_heading level0 col0\" >Purchase Count</th> \n",
       "        <th class=\"col_heading level0 col1\" >Item Price</th> \n",
       "        <th class=\"col_heading level0 col2\" >Total Purchase Value</th> \n",
       "    </tr>    <tr> \n",
       "        <th class=\"index_name level0\" >Item ID</th> \n",
       "        <th class=\"index_name level1\" >Item Name</th> \n",
       "        <th class=\"blank\" ></th> \n",
       "        <th class=\"blank\" ></th> \n",
       "        <th class=\"blank\" ></th> \n",
       "    </tr></thead> \n",
       "<tbody>    <tr> \n",
       "        <th id=\"T_a828d234_406b_11e9_a4ce_02002c1acb01level0_row0\" class=\"row_heading level0 row0\" >178</th> \n",
       "        <th id=\"T_a828d234_406b_11e9_a4ce_02002c1acb01level1_row0\" class=\"row_heading level1 row0\" >Oathbreaker, Last Hope of the Breaking Storm</th> \n",
       "        <td id=\"T_a828d234_406b_11e9_a4ce_02002c1acb01row0_col0\" class=\"data row0 col0\" >12</td> \n",
       "        <td id=\"T_a828d234_406b_11e9_a4ce_02002c1acb01row0_col1\" class=\"data row0 col1\" >$4.23</td> \n",
       "        <td id=\"T_a828d234_406b_11e9_a4ce_02002c1acb01row0_col2\" class=\"data row0 col2\" >$50.76</td> \n",
       "    </tr>    <tr> \n",
       "        <th id=\"T_a828d234_406b_11e9_a4ce_02002c1acb01level0_row1\" class=\"row_heading level0 row1\" >145</th> \n",
       "        <th id=\"T_a828d234_406b_11e9_a4ce_02002c1acb01level1_row1\" class=\"row_heading level1 row1\" >Fiery Glass Crusader</th> \n",
       "        <td id=\"T_a828d234_406b_11e9_a4ce_02002c1acb01row1_col0\" class=\"data row1 col0\" >9</td> \n",
       "        <td id=\"T_a828d234_406b_11e9_a4ce_02002c1acb01row1_col1\" class=\"data row1 col1\" >$4.58</td> \n",
       "        <td id=\"T_a828d234_406b_11e9_a4ce_02002c1acb01row1_col2\" class=\"data row1 col2\" >$41.22</td> \n",
       "    </tr>    <tr> \n",
       "        <th id=\"T_a828d234_406b_11e9_a4ce_02002c1acb01level0_row2\" class=\"row_heading level0 row2\" >108</th> \n",
       "        <th id=\"T_a828d234_406b_11e9_a4ce_02002c1acb01level1_row2\" class=\"row_heading level1 row2\" >Extraction, Quickblade Of Trembling Hands</th> \n",
       "        <td id=\"T_a828d234_406b_11e9_a4ce_02002c1acb01row2_col0\" class=\"data row2 col0\" >9</td> \n",
       "        <td id=\"T_a828d234_406b_11e9_a4ce_02002c1acb01row2_col1\" class=\"data row2 col1\" >$3.53</td> \n",
       "        <td id=\"T_a828d234_406b_11e9_a4ce_02002c1acb01row2_col2\" class=\"data row2 col2\" >$31.77</td> \n",
       "    </tr>    <tr> \n",
       "        <th id=\"T_a828d234_406b_11e9_a4ce_02002c1acb01level0_row3\" class=\"row_heading level0 row3\" >82</th> \n",
       "        <th id=\"T_a828d234_406b_11e9_a4ce_02002c1acb01level1_row3\" class=\"row_heading level1 row3\" >Nirvana</th> \n",
       "        <td id=\"T_a828d234_406b_11e9_a4ce_02002c1acb01row3_col0\" class=\"data row3 col0\" >9</td> \n",
       "        <td id=\"T_a828d234_406b_11e9_a4ce_02002c1acb01row3_col1\" class=\"data row3 col1\" >$4.90</td> \n",
       "        <td id=\"T_a828d234_406b_11e9_a4ce_02002c1acb01row3_col2\" class=\"data row3 col2\" >$44.10</td> \n",
       "    </tr>    <tr> \n",
       "        <th id=\"T_a828d234_406b_11e9_a4ce_02002c1acb01level0_row4\" class=\"row_heading level0 row4\" >19</th> \n",
       "        <th id=\"T_a828d234_406b_11e9_a4ce_02002c1acb01level1_row4\" class=\"row_heading level1 row4\" >Pursuit, Cudgel of Necromancy</th> \n",
       "        <td id=\"T_a828d234_406b_11e9_a4ce_02002c1acb01row4_col0\" class=\"data row4 col0\" >8</td> \n",
       "        <td id=\"T_a828d234_406b_11e9_a4ce_02002c1acb01row4_col1\" class=\"data row4 col1\" >$1.02</td> \n",
       "        <td id=\"T_a828d234_406b_11e9_a4ce_02002c1acb01row4_col2\" class=\"data row4 col2\" >$8.16</td> \n",
       "    </tr></tbody> \n",
       "</table> "
      ],
      "text/plain": [
       "<pandas.io.formats.style.Styler at 0x11f9834e0>"
      ]
     },
     "execution_count": 39,
     "metadata": {},
     "output_type": "execute_result"
    }
   ],
   "source": [
    "# Create new data frame with items related information \n",
    "items = purchase_data[[\"Item ID\", \"Item Name\", \"Price\"]]\n",
    "\n",
    "# Group the item data by item id and item name \n",
    "item_stats = items.groupby([\"Item ID\",\"Item Name\"])\n",
    "\n",
    "# Count the number of times an item has been purchased \n",
    "purchase_count_item = item_stats[\"Price\"].count()\n",
    "\n",
    "# Calcualte the purchase value per item \n",
    "purchase_value = (item_stats[\"Price\"].sum()) \n",
    "\n",
    "# Find individual item price\n",
    "item_price = purchase_value/purchase_count_item\n",
    "\n",
    "# Create data frame with obtained values\n",
    "most_popular_items = pd.DataFrame({\"Purchase Count\": purchase_count_item, \n",
    "                                   \"Item Price\": item_price,\n",
    "                                   \"Total Purchase Value\":purchase_value})\n",
    "\n",
    "# Sort in descending order to obtain top spender names and provide top 5 item names\n",
    "popular_formatted = most_popular_items.sort_values([\"Purchase Count\"], ascending=False).head()\n",
    "\n",
    "# Format with currency style\n",
    "popular_formatted.style.format({\"Item Price\":\"${:,.2f}\",\n",
    "                                \"Total Purchase Value\":\"${:,.2f}\"})"
   ]
  },
  {
   "cell_type": "markdown",
   "metadata": {},
   "source": [
    "## Most Profitable Items"
   ]
  },
  {
   "cell_type": "markdown",
   "metadata": {},
   "source": [
    "* Sort the above table by total purchase value in descending order\n",
    "\n",
    "\n",
    "* Optional: give the displayed data cleaner formatting\n",
    "\n",
    "\n",
    "* Display a preview of the data frame\n",
    "\n"
   ]
  },
  {
   "cell_type": "code",
   "execution_count": 40,
   "metadata": {
    "scrolled": true
   },
   "outputs": [
    {
     "data": {
      "text/html": [
       "<style  type=\"text/css\" >\n",
       "</style>  \n",
       "<table id=\"T_a8c820e6_406b_11e9_a4ce_02002c1acb01\" > \n",
       "<thead>    <tr> \n",
       "        <th class=\"blank\" ></th> \n",
       "        <th class=\"blank level0\" ></th> \n",
       "        <th class=\"col_heading level0 col0\" >Purchase Count</th> \n",
       "        <th class=\"col_heading level0 col1\" >Item Price</th> \n",
       "        <th class=\"col_heading level0 col2\" >Total Purchase Value</th> \n",
       "    </tr>    <tr> \n",
       "        <th class=\"index_name level0\" >Item ID</th> \n",
       "        <th class=\"index_name level1\" >Item Name</th> \n",
       "        <th class=\"blank\" ></th> \n",
       "        <th class=\"blank\" ></th> \n",
       "        <th class=\"blank\" ></th> \n",
       "    </tr></thead> \n",
       "<tbody>    <tr> \n",
       "        <th id=\"T_a8c820e6_406b_11e9_a4ce_02002c1acb01level0_row0\" class=\"row_heading level0 row0\" >178</th> \n",
       "        <th id=\"T_a8c820e6_406b_11e9_a4ce_02002c1acb01level1_row0\" class=\"row_heading level1 row0\" >Oathbreaker, Last Hope of the Breaking Storm</th> \n",
       "        <td id=\"T_a8c820e6_406b_11e9_a4ce_02002c1acb01row0_col0\" class=\"data row0 col0\" >12</td> \n",
       "        <td id=\"T_a8c820e6_406b_11e9_a4ce_02002c1acb01row0_col1\" class=\"data row0 col1\" >$4.23</td> \n",
       "        <td id=\"T_a8c820e6_406b_11e9_a4ce_02002c1acb01row0_col2\" class=\"data row0 col2\" >$50.76</td> \n",
       "    </tr>    <tr> \n",
       "        <th id=\"T_a8c820e6_406b_11e9_a4ce_02002c1acb01level0_row1\" class=\"row_heading level0 row1\" >82</th> \n",
       "        <th id=\"T_a8c820e6_406b_11e9_a4ce_02002c1acb01level1_row1\" class=\"row_heading level1 row1\" >Nirvana</th> \n",
       "        <td id=\"T_a8c820e6_406b_11e9_a4ce_02002c1acb01row1_col0\" class=\"data row1 col0\" >9</td> \n",
       "        <td id=\"T_a8c820e6_406b_11e9_a4ce_02002c1acb01row1_col1\" class=\"data row1 col1\" >$4.90</td> \n",
       "        <td id=\"T_a8c820e6_406b_11e9_a4ce_02002c1acb01row1_col2\" class=\"data row1 col2\" >$44.10</td> \n",
       "    </tr>    <tr> \n",
       "        <th id=\"T_a8c820e6_406b_11e9_a4ce_02002c1acb01level0_row2\" class=\"row_heading level0 row2\" >145</th> \n",
       "        <th id=\"T_a8c820e6_406b_11e9_a4ce_02002c1acb01level1_row2\" class=\"row_heading level1 row2\" >Fiery Glass Crusader</th> \n",
       "        <td id=\"T_a8c820e6_406b_11e9_a4ce_02002c1acb01row2_col0\" class=\"data row2 col0\" >9</td> \n",
       "        <td id=\"T_a8c820e6_406b_11e9_a4ce_02002c1acb01row2_col1\" class=\"data row2 col1\" >$4.58</td> \n",
       "        <td id=\"T_a8c820e6_406b_11e9_a4ce_02002c1acb01row2_col2\" class=\"data row2 col2\" >$41.22</td> \n",
       "    </tr>    <tr> \n",
       "        <th id=\"T_a8c820e6_406b_11e9_a4ce_02002c1acb01level0_row3\" class=\"row_heading level0 row3\" >92</th> \n",
       "        <th id=\"T_a8c820e6_406b_11e9_a4ce_02002c1acb01level1_row3\" class=\"row_heading level1 row3\" >Final Critic</th> \n",
       "        <td id=\"T_a8c820e6_406b_11e9_a4ce_02002c1acb01row3_col0\" class=\"data row3 col0\" >8</td> \n",
       "        <td id=\"T_a8c820e6_406b_11e9_a4ce_02002c1acb01row3_col1\" class=\"data row3 col1\" >$4.88</td> \n",
       "        <td id=\"T_a8c820e6_406b_11e9_a4ce_02002c1acb01row3_col2\" class=\"data row3 col2\" >$39.04</td> \n",
       "    </tr>    <tr> \n",
       "        <th id=\"T_a8c820e6_406b_11e9_a4ce_02002c1acb01level0_row4\" class=\"row_heading level0 row4\" >103</th> \n",
       "        <th id=\"T_a8c820e6_406b_11e9_a4ce_02002c1acb01level1_row4\" class=\"row_heading level1 row4\" >Singed Scalpel</th> \n",
       "        <td id=\"T_a8c820e6_406b_11e9_a4ce_02002c1acb01row4_col0\" class=\"data row4 col0\" >8</td> \n",
       "        <td id=\"T_a8c820e6_406b_11e9_a4ce_02002c1acb01row4_col1\" class=\"data row4 col1\" >$4.35</td> \n",
       "        <td id=\"T_a8c820e6_406b_11e9_a4ce_02002c1acb01row4_col2\" class=\"data row4 col2\" >$34.80</td> \n",
       "    </tr></tbody> \n",
       "</table> "
      ],
      "text/plain": [
       "<pandas.io.formats.style.Styler at 0x120644128>"
      ]
     },
     "execution_count": 40,
     "metadata": {},
     "output_type": "execute_result"
    }
   ],
   "source": [
    "# Take the most_popular items data frame and change the sorting to find highest total purchase value\n",
    "popular_formatted = most_popular_items.sort_values([\"Total Purchase Value\"],\n",
    "                                                   ascending=False).head()\n",
    "# Format with currency style\n",
    "popular_formatted.style.format({\"Item Price\":\"${:,.2f}\",\n",
    "                                \"Total Purchase Value\":\"${:,.2f}\"})"
   ]
  },
  {
   "cell_type": "code",
   "execution_count": null,
   "metadata": {},
   "outputs": [],
   "source": []
  }
 ],
 "metadata": {
  "anaconda-cloud": {},
  "kernel_info": {
   "name": "python3"
  },
  "kernelspec": {
   "display_name": "Python 3",
   "language": "python",
   "name": "python3"
  },
  "language_info": {
   "codemirror_mode": {
    "name": "ipython",
    "version": 3
   },
   "file_extension": ".py",
   "mimetype": "text/x-python",
   "name": "python",
   "nbconvert_exporter": "python",
   "pygments_lexer": "ipython3",
   "version": "3.7.1"
  },
  "nteract": {
   "version": "0.2.0"
  }
 },
 "nbformat": 4,
 "nbformat_minor": 2
}
